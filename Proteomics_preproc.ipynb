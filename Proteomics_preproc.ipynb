{
 "cells": [
  {
   "cell_type": "code",
   "execution_count": 2,
   "metadata": {},
   "outputs": [
    {
     "name": "stderr",
     "output_type": "stream",
     "text": [
      "<frozen importlib._bootstrap>:228: RuntimeWarning: scipy._lib.messagestream.MessageStream size changed, may indicate binary incompatibility. Expected 56 from C header, got 64 from PyObject\n"
     ]
    }
   ],
   "source": [
    "# notebook doing extraction of OLINK data\n",
    "\n",
    "import pickle as pkl\n",
    "import pandas\n",
    "import pandas as pd\n",
    "from pandas.api.types import is_numeric_dtype\n",
    "from pandas.api.types import is_bool_dtype\n",
    "import numpy as np\n",
    "import pickle as pkl \n",
    "import os,re\n",
    "import matplotlib.pyplot as plt\n",
    "import scipy.stats as stats\n",
    "import sklearn\n",
    "import statsmodels\n",
    "import statsmodels.formula.api as smf\n",
    "import seaborn as sns\n",
    "import xarray\n",
    "#import GPy\n",
    "from scipy.stats import chi2_contingency\n",
    "import numbers,numpy.random\n",
    "from statsmodels.multivariate.pca import PCA\n",
    "from sklearn.datasets import make_regression\n",
    "import warnings\n",
    "warnings.filterwarnings(action='once')\n",
    "warnings.filterwarnings(\"ignore\", category=DeprecationWarning)\n",
    "warnings.simplefilter(action='ignore', category=pd.errors.PerformanceWarning)\n",
    "pd.set_option('use_inf_as_na',True)\n",
    "#%load_ext autoreload\n",
    "#%autoreload 2"
   ]
  },
  {
   "cell_type": "code",
   "execution_count": 4,
   "metadata": {},
   "outputs": [
    {
     "ename": "NameError",
     "evalue": "name 'data' is not defined",
     "output_type": "error",
     "traceback": [
      "\u001b[0;31m---------------------------------------------------------------------------\u001b[0m",
      "\u001b[0;31mNameError\u001b[0m                                 Traceback (most recent call last)",
      "Cell \u001b[0;32mIn[4], line 5\u001b[0m\n\u001b[1;32m      2\u001b[0m OLINK_data\u001b[38;5;241m=\u001b[39mpd\u001b[38;5;241m.\u001b[39mread_csv(\u001b[38;5;124m'\u001b[39m\u001b[38;5;124molink_data2.txt\u001b[39m\u001b[38;5;124m'\u001b[39m,sep\u001b[38;5;241m=\u001b[39m\u001b[38;5;124m'\u001b[39m\u001b[38;5;130;01m\\t\u001b[39;00m\u001b[38;5;124m'\u001b[39m)\n\u001b[1;32m      4\u001b[0m eids_OLINK\u001b[38;5;241m=\u001b[39mOLINK_data[OLINK_data[\u001b[38;5;124m'\u001b[39m\u001b[38;5;124mins_index\u001b[39m\u001b[38;5;124m'\u001b[39m]\u001b[38;5;241m==\u001b[39m\u001b[38;5;241m2\u001b[39m][\u001b[38;5;124m'\u001b[39m\u001b[38;5;124meid\u001b[39m\u001b[38;5;124m'\u001b[39m]\u001b[38;5;241m.\u001b[39munique()\n\u001b[0;32m----> 5\u001b[0m eids_SIMOA\u001b[38;5;241m=\u001b[39m\u001b[43mdata\u001b[49m\u001b[38;5;241m.\u001b[39mindex\u001b[38;5;241m.\u001b[39munique()\n\u001b[1;32m      6\u001b[0m common_eids \u001b[38;5;241m=\u001b[39m np\u001b[38;5;241m.\u001b[39munion1d(eids_OLINK,data\u001b[38;5;241m.\u001b[39mindex)\n\u001b[1;32m      7\u001b[0m np\u001b[38;5;241m.\u001b[39msavetxt(\u001b[38;5;124m'\u001b[39m\u001b[38;5;124msubjects_OLINK.txt\u001b[39m\u001b[38;5;124m'\u001b[39m,common_eids,fmt\u001b[38;5;241m=\u001b[39m\u001b[38;5;124m'\u001b[39m\u001b[38;5;132;01m%10.0f\u001b[39;00m\u001b[38;5;124m'\u001b[39m)\n",
      "\u001b[0;31mNameError\u001b[0m: name 'data' is not defined"
     ]
    }
   ],
   "source": [
    "os.chdir('/data/biobank/Proteomics/OLINK')\n",
    "OLINK_data=pd.read_csv('olink_data2.txt',sep='\\t')\n",
    "\n",
    "eids_OLINK=OLINK_data[OLINK_data['ins_index']==2]['eid'].unique()\n",
    "eids_SIMOA=data.index.unique()\n",
    "common_eids = np.union1d(eids_OLINK,data.index)\n",
    "np.savetxt('subjects_OLINK.txt',common_eids,fmt='%10.0f')\n",
    "\n",
    "OLINK=pd.DataFrame(index=np.unique(OLINK_data['eid']))\n",
    "Plists={}\n",
    "Plists[0]=[]\n",
    "Plists[2]=[]\n",
    "Plists[3]=[]\n",
    "\n",
    "Plists['all'] = OLINK_data['protein_id'].unique()\n",
    "\n",
    "for a in Plists['all']:\n",
    "    for b in [0,2,3]:\n",
    "        Plists[b].append('P_' + str(a) + '-' + str(b))\n",
    "        els=(OLINK_data['protein_id']==a)&(OLINK_data['ins_index']==b)\n",
    "        outsuff='0'\n",
    "        if b==2:\n",
    "            outsuff='pre'\n",
    "        elif b==3:\n",
    "            outsuff='post'\n",
    "        OLINK.loc[OLINK_data.loc[els,'eid'],'P_' + str(a) + '_' + outsuff] = OLINK_data.loc[els,'result'].values\n",
    "        \n",
    "OLINK_meta=pd.read_csv('ukb672393.csv')\n",
    "OLINK_meta=OLINK_meta.set_index('eid')\n",
    "OLINK_meta=OLINK_meta.loc[data.index,:]"
   ]
  },
  {
   "cell_type": "code",
   "execution_count": 16,
   "metadata": {},
   "outputs": [
    {
     "data": {
      "text/html": [
       "<div>\n",
       "<style scoped>\n",
       "    .dataframe tbody tr th:only-of-type {\n",
       "        vertical-align: middle;\n",
       "    }\n",
       "\n",
       "    .dataframe tbody tr th {\n",
       "        vertical-align: top;\n",
       "    }\n",
       "\n",
       "    .dataframe thead th {\n",
       "        text-align: right;\n",
       "    }\n",
       "</style>\n",
       "<table border=\"1\" class=\"dataframe\">\n",
       "  <thead>\n",
       "    <tr style=\"text-align: right;\">\n",
       "      <th></th>\n",
       "      <th>eid</th>\n",
       "      <th>ins_index</th>\n",
       "      <th>protein_id</th>\n",
       "      <th>result</th>\n",
       "    </tr>\n",
       "  </thead>\n",
       "  <tbody>\n",
       "  </tbody>\n",
       "</table>\n",
       "</div>"
      ],
      "text/plain": [
       "Empty DataFrame\n",
       "Columns: [eid, ins_index, protein_id, result]\n",
       "Index: []"
      ]
     },
     "execution_count": 16,
     "metadata": {},
     "output_type": "execute_result"
    }
   ],
   "source": [
    "OLINK_data[(OLINK_data['eid']==1024229) & (OLINK_data['ins_index']==1)]"
   ]
  },
  {
   "cell_type": "code",
   "execution_count": 33,
   "metadata": {},
   "outputs": [
    {
     "data": {
      "text/plain": [
       "3"
      ]
     },
     "execution_count": 33,
     "metadata": {},
     "output_type": "execute_result"
    }
   ],
   "source": [
    "len(OLINK_data['ins_index'].unique())"
   ]
  },
  {
   "cell_type": "code",
   "execution_count": null,
   "metadata": {},
   "outputs": [],
   "source": [
    "OLINK.columns=[a.replace('_3','_post') for a in OLINK.columns]\n",
    "OLINK.columns=[a.replace('_2','_pre') for a in OLINK.columns]"
   ]
  },
  {
   "cell_type": "code",
   "execution_count": null,
   "metadata": {},
   "outputs": [],
   "source": [
    "# eids_OLINK=OLINK_data[OLINK_data['ins_index']==2]['eid'].unique()\n",
    "# eids_SIMOA=data.index.unique()\n",
    "# common_eids = np.union1d(eids_OLINK,data.index)"
   ]
  },
  {
   "cell_type": "code",
   "execution_count": null,
   "metadata": {},
   "outputs": [],
   "source": [
    "# Plists['all'] = list(OLINK_data['protein_id'].unique())\n",
    "# #  participants with too many missing vals\n",
    "# parts_t0=(OLINK.loc[:,Plists[0]].notnull().sum(axis=1)>500)\n",
    "# parts_t23=(OLINK.loc[:,Plists[2]].notnull().sum(axis=1)>500) & (OLINK.loc[:,Plists[3]].notnull().sum(axis=1)>500)\n",
    "\n",
    "# common_eids=np.array([ a in data.index for a in OLINK.index])\n",
    "# remain_eids = (~common_eids & parts_t0)\n",
    "# common_eids = (common_eids & parts_t23 & parts_t0)\n",
    "# common_eids_0 = (common_eids & parts_t23 )"
   ]
  },
  {
   "cell_type": "code",
   "execution_count": null,
   "metadata": {},
   "outputs": [],
   "source": [
    "coding = pd.read_csv('coding143.tsv',sep='\\t',index_col=0)\n",
    "coding.loc[:,'Protein']=np.nan\n",
    "coding.loc[:,'Protein']=coding['meaning'].str.extract('(.*);').values\n",
    "\n",
    "OLINK.columns=[a.replace('-post','_post') for a in OLINK.columns]\n",
    "OLINK.columns=[a.replace('-pre','_pre') for a in OLINK.columns]\n",
    "\n",
    "repl={}\n",
    "for a in coding.index:\n",
    "    cols=OLINK.columns[OLINK.columns.str.contains('_'+str(a)+'-')]\n",
    "    \n",
    "    for col in cols:\n",
    "        repl[col]=col.replace('_'+str(a)+'-','_'+coding.loc[a,'Protein']+'_')\n",
    "OLINK=OLINK.rename(columns=repl)\n",
    "OLINK.columns=[a.replace('_2','_pre') for a in OLINK.columns]\n",
    "OLINK.columns=[a.replace('_3','_post') for a in OLINK.columns]\n",
    "OLINK.to_csv('OLINK_data.csv')\n"
   ]
  },
  {
   "cell_type": "code",
   "execution_count": null,
   "metadata": {},
   "outputs": [],
   "source": [
    "\n",
    "cols=(OLINK.loc[:,OLINK.columns.str.contains('_pre')].notna().sum()>20)\n",
    "cols=list(cols[cols].index.values)\n",
    "\n",
    "eids_OLINK=(OLINK[cols].notna().sum(axis=1))>0\n",
    "eids_OLINK=eids_OLINK[eids_OLINK].index.values\n",
    "\n",
    "eids_SIMOA=data.index.unique()\n",
    "\n",
    "common_eids = np.union1d(eids_OLINK,data.index)\n",
    "\n",
    "cols = cols + [a.replace('_pre','_post') for a in cols] + [a.replace('_pre','_0') for a in cols]\n",
    "\n",
    "OLINK.loc[subjs_OLINK,cols].to_csv('/data/biobank/Proteomics/OLINK/OLINK_data_COVID.csv')"
   ]
  }
 ],
 "metadata": {
  "kernelspec": {
   "display_name": "Python 3",
   "language": "python",
   "name": "python3"
  },
  "language_info": {
   "codemirror_mode": {
    "name": "ipython",
    "version": 3
   },
   "file_extension": ".py",
   "mimetype": "text/x-python",
   "name": "python",
   "nbconvert_exporter": "python",
   "pygments_lexer": "ipython3",
   "version": "3.9.11"
  }
 },
 "nbformat": 4,
 "nbformat_minor": 4
}
